{
 "cells": [
  {
   "cell_type": "markdown",
   "metadata": {},
   "source": [
    "___\n",
    "\n",
    "<img src='../BootcampBack.png' /></a>\n",
    "\n",
    "# Ecommerce Purchases Exercise\n",
    "\n",
    "This Excercise is built on some Data about crime, please try to answere the proposed questions by following the instructions. Most of the the tasks can be solved in different ways and they will become progressively harder in order to allow you to better test the acquired skills.\n",
    "\n",
    "Hint: All of these questions can be answered with one line of code.\n",
    "\n",
    "____\n",
    "** Import pandas and read in the crime .csv file and set it to a DataFrame called crime. **"
   ]
  },
  {
   "cell_type": "code",
   "execution_count": 12,
   "metadata": {},
   "outputs": [],
   "source": [
    "import pandas as pd"
   ]
  },
  {
   "cell_type": "code",
   "execution_count": 13,
   "metadata": {},
   "outputs": [],
   "source": [
    "crime=pd.read_csv('crime.csv', encoding='iso-8859-1')"
   ]
  },
  {
   "cell_type": "markdown",
   "metadata": {},
   "source": [
    "**Check the head of the DataFrame**"
   ]
  },
  {
   "cell_type": "code",
   "execution_count": 3,
   "metadata": {},
   "outputs": [
    {
     "data": {
      "text/html": [
       "<div>\n",
       "<style scoped>\n",
       "    .dataframe tbody tr th:only-of-type {\n",
       "        vertical-align: middle;\n",
       "    }\n",
       "\n",
       "    .dataframe tbody tr th {\n",
       "        vertical-align: top;\n",
       "    }\n",
       "\n",
       "    .dataframe thead th {\n",
       "        text-align: right;\n",
       "    }\n",
       "</style>\n",
       "<table border=\"1\" class=\"dataframe\">\n",
       "  <thead>\n",
       "    <tr style=\"text-align: right;\">\n",
       "      <th></th>\n",
       "      <th>INCIDENT_NUMBER</th>\n",
       "      <th>OFFENSE_CODE</th>\n",
       "      <th>OFFENSE_CODE_GROUP</th>\n",
       "      <th>OFFENSE_DESCRIPTION</th>\n",
       "      <th>DISTRICT</th>\n",
       "      <th>REPORTING_AREA</th>\n",
       "      <th>SHOOTING</th>\n",
       "      <th>OCCURRED_ON_DATE</th>\n",
       "      <th>YEAR</th>\n",
       "      <th>MONTH</th>\n",
       "      <th>DAY_OF_WEEK</th>\n",
       "      <th>HOUR</th>\n",
       "      <th>UCR_PART</th>\n",
       "      <th>STREET</th>\n",
       "      <th>Lat</th>\n",
       "      <th>Long</th>\n",
       "      <th>Location</th>\n",
       "    </tr>\n",
       "  </thead>\n",
       "  <tbody>\n",
       "    <tr>\n",
       "      <th>0</th>\n",
       "      <td>I182070945</td>\n",
       "      <td>619</td>\n",
       "      <td>Larceny</td>\n",
       "      <td>LARCENY ALL OTHERS</td>\n",
       "      <td>D14</td>\n",
       "      <td>808</td>\n",
       "      <td>NaN</td>\n",
       "      <td>2018-09-02 13:00:00</td>\n",
       "      <td>2018</td>\n",
       "      <td>9</td>\n",
       "      <td>Sunday</td>\n",
       "      <td>13</td>\n",
       "      <td>Part One</td>\n",
       "      <td>LINCOLN ST</td>\n",
       "      <td>42.357791</td>\n",
       "      <td>-71.139371</td>\n",
       "      <td>(42.35779134, -71.13937053)</td>\n",
       "    </tr>\n",
       "    <tr>\n",
       "      <th>1</th>\n",
       "      <td>I182070943</td>\n",
       "      <td>1402</td>\n",
       "      <td>Vandalism</td>\n",
       "      <td>VANDALISM</td>\n",
       "      <td>C11</td>\n",
       "      <td>347</td>\n",
       "      <td>NaN</td>\n",
       "      <td>2018-08-21 00:00:00</td>\n",
       "      <td>2018</td>\n",
       "      <td>8</td>\n",
       "      <td>Tuesday</td>\n",
       "      <td>0</td>\n",
       "      <td>Part Two</td>\n",
       "      <td>HECLA ST</td>\n",
       "      <td>42.306821</td>\n",
       "      <td>-71.060300</td>\n",
       "      <td>(42.30682138, -71.06030035)</td>\n",
       "    </tr>\n",
       "    <tr>\n",
       "      <th>2</th>\n",
       "      <td>I182070941</td>\n",
       "      <td>3410</td>\n",
       "      <td>Towed</td>\n",
       "      <td>TOWED MOTOR VEHICLE</td>\n",
       "      <td>D4</td>\n",
       "      <td>151</td>\n",
       "      <td>NaN</td>\n",
       "      <td>2018-09-03 19:27:00</td>\n",
       "      <td>2018</td>\n",
       "      <td>9</td>\n",
       "      <td>Monday</td>\n",
       "      <td>19</td>\n",
       "      <td>Part Three</td>\n",
       "      <td>CAZENOVE ST</td>\n",
       "      <td>42.346589</td>\n",
       "      <td>-71.072429</td>\n",
       "      <td>(42.34658879, -71.07242943)</td>\n",
       "    </tr>\n",
       "    <tr>\n",
       "      <th>3</th>\n",
       "      <td>I182070940</td>\n",
       "      <td>3114</td>\n",
       "      <td>Investigate Property</td>\n",
       "      <td>INVESTIGATE PROPERTY</td>\n",
       "      <td>D4</td>\n",
       "      <td>272</td>\n",
       "      <td>NaN</td>\n",
       "      <td>2018-09-03 21:16:00</td>\n",
       "      <td>2018</td>\n",
       "      <td>9</td>\n",
       "      <td>Monday</td>\n",
       "      <td>21</td>\n",
       "      <td>Part Three</td>\n",
       "      <td>NEWCOMB ST</td>\n",
       "      <td>42.334182</td>\n",
       "      <td>-71.078664</td>\n",
       "      <td>(42.33418175, -71.07866441)</td>\n",
       "    </tr>\n",
       "    <tr>\n",
       "      <th>4</th>\n",
       "      <td>I182070938</td>\n",
       "      <td>3114</td>\n",
       "      <td>Investigate Property</td>\n",
       "      <td>INVESTIGATE PROPERTY</td>\n",
       "      <td>B3</td>\n",
       "      <td>421</td>\n",
       "      <td>NaN</td>\n",
       "      <td>2018-09-03 21:05:00</td>\n",
       "      <td>2018</td>\n",
       "      <td>9</td>\n",
       "      <td>Monday</td>\n",
       "      <td>21</td>\n",
       "      <td>Part Three</td>\n",
       "      <td>DELHI ST</td>\n",
       "      <td>42.275365</td>\n",
       "      <td>-71.090361</td>\n",
       "      <td>(42.27536542, -71.09036101)</td>\n",
       "    </tr>\n",
       "  </tbody>\n",
       "</table>\n",
       "</div>"
      ],
      "text/plain": [
       "  INCIDENT_NUMBER  OFFENSE_CODE    OFFENSE_CODE_GROUP   OFFENSE_DESCRIPTION  \\\n",
       "0      I182070945           619               Larceny    LARCENY ALL OTHERS   \n",
       "1      I182070943          1402             Vandalism             VANDALISM   \n",
       "2      I182070941          3410                 Towed   TOWED MOTOR VEHICLE   \n",
       "3      I182070940          3114  Investigate Property  INVESTIGATE PROPERTY   \n",
       "4      I182070938          3114  Investigate Property  INVESTIGATE PROPERTY   \n",
       "\n",
       "  DISTRICT REPORTING_AREA SHOOTING     OCCURRED_ON_DATE  YEAR  MONTH  \\\n",
       "0      D14            808      NaN  2018-09-02 13:00:00  2018      9   \n",
       "1      C11            347      NaN  2018-08-21 00:00:00  2018      8   \n",
       "2       D4            151      NaN  2018-09-03 19:27:00  2018      9   \n",
       "3       D4            272      NaN  2018-09-03 21:16:00  2018      9   \n",
       "4       B3            421      NaN  2018-09-03 21:05:00  2018      9   \n",
       "\n",
       "  DAY_OF_WEEK  HOUR    UCR_PART       STREET        Lat       Long  \\\n",
       "0      Sunday    13    Part One   LINCOLN ST  42.357791 -71.139371   \n",
       "1     Tuesday     0    Part Two     HECLA ST  42.306821 -71.060300   \n",
       "2      Monday    19  Part Three  CAZENOVE ST  42.346589 -71.072429   \n",
       "3      Monday    21  Part Three   NEWCOMB ST  42.334182 -71.078664   \n",
       "4      Monday    21  Part Three     DELHI ST  42.275365 -71.090361   \n",
       "\n",
       "                      Location  \n",
       "0  (42.35779134, -71.13937053)  \n",
       "1  (42.30682138, -71.06030035)  \n",
       "2  (42.34658879, -71.07242943)  \n",
       "3  (42.33418175, -71.07866441)  \n",
       "4  (42.27536542, -71.09036101)  "
      ]
     },
     "execution_count": 3,
     "metadata": {},
     "output_type": "execute_result"
    }
   ],
   "source": [
    "crime.head()"
   ]
  },
  {
   "cell_type": "markdown",
   "metadata": {},
   "source": [
    "**How many data elements are there? (the product of rows by columns)**"
   ]
  },
  {
   "cell_type": "code",
   "execution_count": 7,
   "metadata": {},
   "outputs": [
    {
     "data": {
      "text/plain": [
       "5424241"
      ]
     },
     "execution_count": 7,
     "metadata": {},
     "output_type": "execute_result"
    }
   ],
   "source": [
    "a=crime.shape\n",
    "b=a[0]*a[1]\n",
    "b"
   ]
  },
  {
   "cell_type": "markdown",
   "metadata": {},
   "source": [
    "**What is the standard deviation of Lat?**"
   ]
  },
  {
   "cell_type": "code",
   "execution_count": 20,
   "metadata": {},
   "outputs": [
    {
     "data": {
      "text/plain": [
       "2.1597656389489366"
      ]
     },
     "execution_count": 20,
     "metadata": {},
     "output_type": "execute_result"
    }
   ],
   "source": [
    "Lat=crime['Lat']\n",
    "Lat.std()\n"
   ]
  },
  {
   "cell_type": "markdown",
   "metadata": {},
   "source": [
    "**What were the median and range of Long?**"
   ]
  },
  {
   "cell_type": "code",
   "execution_count": 22,
   "metadata": {},
   "outputs": [
    {
     "data": {
      "text/plain": [
       "-71.07752376"
      ]
     },
     "execution_count": 22,
     "metadata": {},
     "output_type": "execute_result"
    }
   ],
   "source": [
    "Long=crime['Long']\n",
    "Long.median()"
   ]
  },
  {
   "cell_type": "code",
   "execution_count": 24,
   "metadata": {},
   "outputs": [
    {
     "data": {
      "text/plain": [
       "count    299074.000000\n",
       "mean        -70.908272\n",
       "std           3.493618\n",
       "min         -71.178674\n",
       "25%         -71.097135\n",
       "50%         -71.077524\n",
       "75%         -71.062467\n",
       "max          -1.000000\n",
       "Name: Long, dtype: float64"
      ]
     },
     "execution_count": 24,
     "metadata": {},
     "output_type": "execute_result"
    }
   ],
   "source": [
    "Long.describe()"
   ]
  },
  {
   "cell_type": "markdown",
   "metadata": {},
   "source": [
    "**Show all \"Vandalism\" OFFENSE_CODE_GROUP**"
   ]
  },
  {
   "cell_type": "code",
   "execution_count": 36,
   "metadata": {},
   "outputs": [
    {
     "data": {
      "text/html": [
       "<div>\n",
       "<style scoped>\n",
       "    .dataframe tbody tr th:only-of-type {\n",
       "        vertical-align: middle;\n",
       "    }\n",
       "\n",
       "    .dataframe tbody tr th {\n",
       "        vertical-align: top;\n",
       "    }\n",
       "\n",
       "    .dataframe thead th {\n",
       "        text-align: right;\n",
       "    }\n",
       "</style>\n",
       "<table border=\"1\" class=\"dataframe\">\n",
       "  <thead>\n",
       "    <tr style=\"text-align: right;\">\n",
       "      <th></th>\n",
       "      <th>INCIDENT_NUMBER</th>\n",
       "      <th>OFFENSE_CODE</th>\n",
       "      <th>OFFENSE_CODE_GROUP</th>\n",
       "      <th>OFFENSE_DESCRIPTION</th>\n",
       "      <th>DISTRICT</th>\n",
       "      <th>REPORTING_AREA</th>\n",
       "      <th>SHOOTING</th>\n",
       "      <th>OCCURRED_ON_DATE</th>\n",
       "      <th>YEAR</th>\n",
       "      <th>MONTH</th>\n",
       "      <th>DAY_OF_WEEK</th>\n",
       "      <th>HOUR</th>\n",
       "      <th>UCR_PART</th>\n",
       "      <th>STREET</th>\n",
       "      <th>Lat</th>\n",
       "      <th>Long</th>\n",
       "      <th>Location</th>\n",
       "    </tr>\n",
       "  </thead>\n",
       "  <tbody>\n",
       "    <tr>\n",
       "      <th>1</th>\n",
       "      <td>I182070943</td>\n",
       "      <td>1402</td>\n",
       "      <td>Vandalism</td>\n",
       "      <td>VANDALISM</td>\n",
       "      <td>C11</td>\n",
       "      <td>347</td>\n",
       "      <td>NaN</td>\n",
       "      <td>2018-08-21 00:00:00</td>\n",
       "      <td>2018</td>\n",
       "      <td>8</td>\n",
       "      <td>Tuesday</td>\n",
       "      <td>0</td>\n",
       "      <td>Part Two</td>\n",
       "      <td>HECLA ST</td>\n",
       "      <td>42.306821</td>\n",
       "      <td>-71.060300</td>\n",
       "      <td>(42.30682138, -71.06030035)</td>\n",
       "    </tr>\n",
       "    <tr>\n",
       "      <th>43</th>\n",
       "      <td>I182070887</td>\n",
       "      <td>1402</td>\n",
       "      <td>Vandalism</td>\n",
       "      <td>VANDALISM</td>\n",
       "      <td>D4</td>\n",
       "      <td>149</td>\n",
       "      <td>NaN</td>\n",
       "      <td>2018-09-01 12:00:00</td>\n",
       "      <td>2018</td>\n",
       "      <td>9</td>\n",
       "      <td>Saturday</td>\n",
       "      <td>12</td>\n",
       "      <td>Part Two</td>\n",
       "      <td>W NEWTON ST</td>\n",
       "      <td>42.343858</td>\n",
       "      <td>-71.079535</td>\n",
       "      <td>(42.34385799, -71.07953502)</td>\n",
       "    </tr>\n",
       "    <tr>\n",
       "      <th>47</th>\n",
       "      <td>I182070881</td>\n",
       "      <td>1402</td>\n",
       "      <td>Vandalism</td>\n",
       "      <td>VANDALISM</td>\n",
       "      <td>C11</td>\n",
       "      <td>356</td>\n",
       "      <td>NaN</td>\n",
       "      <td>2018-09-03 15:00:00</td>\n",
       "      <td>2018</td>\n",
       "      <td>9</td>\n",
       "      <td>Monday</td>\n",
       "      <td>15</td>\n",
       "      <td>Part Two</td>\n",
       "      <td>GENEVA AVE</td>\n",
       "      <td>42.298489</td>\n",
       "      <td>-71.063133</td>\n",
       "      <td>(42.29848866, -71.06313294)</td>\n",
       "    </tr>\n",
       "    <tr>\n",
       "      <th>57</th>\n",
       "      <td>I182070872</td>\n",
       "      <td>1402</td>\n",
       "      <td>Vandalism</td>\n",
       "      <td>VANDALISM</td>\n",
       "      <td>C6</td>\n",
       "      <td>205</td>\n",
       "      <td>NaN</td>\n",
       "      <td>2018-08-31 17:00:00</td>\n",
       "      <td>2018</td>\n",
       "      <td>8</td>\n",
       "      <td>Friday</td>\n",
       "      <td>17</td>\n",
       "      <td>Part Two</td>\n",
       "      <td>A ST</td>\n",
       "      <td>42.347543</td>\n",
       "      <td>-71.050662</td>\n",
       "      <td>(42.34754258, -71.05066210)</td>\n",
       "    </tr>\n",
       "    <tr>\n",
       "      <th>104</th>\n",
       "      <td>I182070822</td>\n",
       "      <td>1402</td>\n",
       "      <td>Vandalism</td>\n",
       "      <td>VANDALISM</td>\n",
       "      <td>C6</td>\n",
       "      <td>231</td>\n",
       "      <td>NaN</td>\n",
       "      <td>2018-09-03 13:44:00</td>\n",
       "      <td>2018</td>\n",
       "      <td>9</td>\n",
       "      <td>Monday</td>\n",
       "      <td>13</td>\n",
       "      <td>Part Two</td>\n",
       "      <td>E SEVENTH ST</td>\n",
       "      <td>42.332385</td>\n",
       "      <td>-71.030161</td>\n",
       "      <td>(42.33238533, -71.03016099)</td>\n",
       "    </tr>\n",
       "  </tbody>\n",
       "</table>\n",
       "</div>"
      ],
      "text/plain": [
       "    INCIDENT_NUMBER  OFFENSE_CODE OFFENSE_CODE_GROUP OFFENSE_DESCRIPTION  \\\n",
       "1        I182070943          1402          Vandalism           VANDALISM   \n",
       "43       I182070887          1402          Vandalism           VANDALISM   \n",
       "47       I182070881          1402          Vandalism           VANDALISM   \n",
       "57       I182070872          1402          Vandalism           VANDALISM   \n",
       "104      I182070822          1402          Vandalism           VANDALISM   \n",
       "\n",
       "    DISTRICT REPORTING_AREA SHOOTING     OCCURRED_ON_DATE  YEAR  MONTH  \\\n",
       "1        C11            347      NaN  2018-08-21 00:00:00  2018      8   \n",
       "43        D4            149      NaN  2018-09-01 12:00:00  2018      9   \n",
       "47       C11            356      NaN  2018-09-03 15:00:00  2018      9   \n",
       "57        C6            205      NaN  2018-08-31 17:00:00  2018      8   \n",
       "104       C6            231      NaN  2018-09-03 13:44:00  2018      9   \n",
       "\n",
       "    DAY_OF_WEEK  HOUR  UCR_PART        STREET        Lat       Long  \\\n",
       "1       Tuesday     0  Part Two      HECLA ST  42.306821 -71.060300   \n",
       "43     Saturday    12  Part Two   W NEWTON ST  42.343858 -71.079535   \n",
       "47       Monday    15  Part Two    GENEVA AVE  42.298489 -71.063133   \n",
       "57       Friday    17  Part Two          A ST  42.347543 -71.050662   \n",
       "104      Monday    13  Part Two  E SEVENTH ST  42.332385 -71.030161   \n",
       "\n",
       "                        Location  \n",
       "1    (42.30682138, -71.06030035)  \n",
       "43   (42.34385799, -71.07953502)  \n",
       "47   (42.29848866, -71.06313294)  \n",
       "57   (42.34754258, -71.05066210)  \n",
       "104  (42.33238533, -71.03016099)  "
      ]
     },
     "execution_count": 36,
     "metadata": {},
     "output_type": "execute_result"
    }
   ],
   "source": [
    "offense=crime[crime['OFFENSE_CODE_GROUP']=='Vandalism']\n",
    "offense\n",
    "offense.head()\n"
   ]
  },
  {
   "cell_type": "markdown",
   "metadata": {},
   "source": [
    "**How many \"D4\" DISTRICT?**"
   ]
  },
  {
   "cell_type": "code",
   "execution_count": 42,
   "metadata": {},
   "outputs": [
    {
     "data": {
      "text/plain": [
       "INCIDENT_NUMBER        41915\n",
       "OFFENSE_CODE           41915\n",
       "OFFENSE_CODE_GROUP     41915\n",
       "OFFENSE_DESCRIPTION    41915\n",
       "DISTRICT               41915\n",
       "REPORTING_AREA         41915\n",
       "SHOOTING                  56\n",
       "OCCURRED_ON_DATE       41915\n",
       "YEAR                   41915\n",
       "MONTH                  41915\n",
       "DAY_OF_WEEK            41915\n",
       "HOUR                   41915\n",
       "UCR_PART               41908\n",
       "STREET                 40228\n",
       "Lat                    38396\n",
       "Long                   38396\n",
       "Location               41915\n",
       "dtype: int64"
      ]
     },
     "execution_count": 42,
     "metadata": {},
     "output_type": "execute_result"
    }
   ],
   "source": [
    "district=crime[crime['DISTRICT']=='D4']\n",
    "district.head()\n",
    "district.count()"
   ]
  },
  {
   "cell_type": "markdown",
   "metadata": {},
   "source": [
    "**Can you count the number of crimes per day of the week?**\n",
    "\n",
    "**(Hint: Check out [value_counts()](http://pandas.pydata.org/pandas-docs/stable/generated/pandas.Series.value_counts.html) ) **"
   ]
  },
  {
   "cell_type": "code",
   "execution_count": 89,
   "metadata": {
    "scrolled": true
   },
   "outputs": [
    {
     "data": {
      "text/plain": [
       "Friday       48495\n",
       "Wednesday    46729\n",
       "Thursday     46656\n",
       "Tuesday      46383\n",
       "Monday       45679\n",
       "Saturday     44818\n",
       "Sunday       40313\n",
       "Name: DAY_OF_WEEK, dtype: int64"
      ]
     },
     "execution_count": 89,
     "metadata": {},
     "output_type": "execute_result"
    }
   ],
   "source": [
    "crime['DAY_OF_WEEK'].value_counts()\n"
   ]
  },
  {
   "cell_type": "markdown",
   "metadata": {},
   "source": [
    "**What are the 6 most common OFFENSE_CODE_GROUP?**"
   ]
  },
  {
   "cell_type": "code",
   "execution_count": 87,
   "metadata": {},
   "outputs": [
    {
     "data": {
      "text/plain": [
       "Motor Vehicle Accident Response    37132\n",
       "Larceny                            25935\n",
       "Medical Assistance                 23540\n",
       "Investigate Person                 18750\n",
       "Other                              18075\n",
       "Drug Violation                     16548\n",
       "Name: OFFENSE_CODE_GROUP, dtype: int64"
      ]
     },
     "execution_count": 87,
     "metadata": {},
     "output_type": "execute_result"
    }
   ],
   "source": [
    "offense=crime['OFFENSE_CODE_GROUP'].value_counts(sort=True)\n",
    "offense.head(6)"
   ]
  },
  {
   "cell_type": "markdown",
   "metadata": {},
   "source": [
    "**What is the HOUR of crime with INCIDENT_NUMBER I182070822?**"
   ]
  },
  {
   "cell_type": "code",
   "execution_count": 197,
   "metadata": {},
   "outputs": [
    {
     "data": {
      "text/plain": [
       "104    13\n",
       "Name: HOUR, dtype: int64"
      ]
     },
     "execution_count": 197,
     "metadata": {},
     "output_type": "execute_result"
    }
   ],
   "source": [
    "crime[crime['INCIDENT_NUMBER']=='I182070822']['HOUR']\n",
    "\n",
    "\n",
    "      "
   ]
  },
  {
   "cell_type": "markdown",
   "metadata": {},
   "source": [
    "**Verify that the DELHI ST street belongs to DISTRICT B3**"
   ]
  },
  {
   "cell_type": "code",
   "execution_count": 118,
   "metadata": {},
   "outputs": [
    {
     "data": {
      "text/plain": [
       "B3    92\n",
       "Name: DISTRICT, dtype: int64"
      ]
     },
     "execution_count": 118,
     "metadata": {},
     "output_type": "execute_result"
    }
   ],
   "source": [
    "crime[crime['STREET']=='DELHI ST']['DISTRICT'].value_counts()\n",
    "\n"
   ]
  },
  {
   "cell_type": "markdown",
   "metadata": {},
   "source": [
    "**How many crimes was committed in DISTRICT C11 on Monday?**"
   ]
  },
  {
   "cell_type": "code",
   "execution_count": 16,
   "metadata": {},
   "outputs": [
    {
     "data": {
      "text/plain": [
       "INCIDENT_NUMBER        6195\n",
       "OFFENSE_CODE           6195\n",
       "OFFENSE_CODE_GROUP     6195\n",
       "OFFENSE_DESCRIPTION    6195\n",
       "DISTRICT               6195\n",
       "REPORTING_AREA         6195\n",
       "SHOOTING                 13\n",
       "OCCURRED_ON_DATE       6195\n",
       "YEAR                   6195\n",
       "MONTH                  6195\n",
       "DAY_OF_WEEK            6195\n",
       "HOUR                   6195\n",
       "UCR_PART               6192\n",
       "STREET                 6043\n",
       "Lat                    5964\n",
       "Long                   5964\n",
       "Location               6195\n",
       "dtype: int64"
      ]
     },
     "execution_count": 16,
     "metadata": {},
     "output_type": "execute_result"
    }
   ],
   "source": [
    "crime[(crime['DISTRICT']=='C11')& (crime['DAY_OF_WEEK']=='Monday')].count()\n",
    "#or\n",
    "#crime[crime['DISTRICT']=='C11']\n",
    "#t2=t['DAY_OF_WEEK'].value_counts()\n",
    "#t2['Monday']"
   ]
  },
  {
   "cell_type": "markdown",
   "metadata": {},
   "source": [
    "**Hard: How many crimes was committed in a DISTRICT starting with A?**"
   ]
  },
  {
   "cell_type": "code",
   "execution_count": 26,
   "metadata": {},
   "outputs": [
    {
     "data": {
      "text/plain": [
       "False    261542\n",
       "True      55766\n",
       "Name: DISTRICT, dtype: int64"
      ]
     },
     "execution_count": 26,
     "metadata": {},
     "output_type": "execute_result"
    }
   ],
   "source": [
    "crime['DISTRICT'].dropna().str.startswith('A').value_counts()\n",
    "#or\n",
    "#C=crime['DISTRICT'].dropna()\n",
    "#def my_filter(val):\n",
    "   # return val[0]\n",
    "\n",
    "#C[C.apply(my_filter)=='A'].count()"
   ]
  },
  {
   "cell_type": "markdown",
   "metadata": {},
   "source": [
    "**Hard: What are the top 5 crimes committed exactly at 07:00:00?**"
   ]
  },
  {
   "cell_type": "code",
   "execution_count": 34,
   "metadata": {
    "scrolled": true
   },
   "outputs": [
    {
     "data": {
      "text/html": [
       "<div>\n",
       "<style scoped>\n",
       "    .dataframe tbody tr th:only-of-type {\n",
       "        vertical-align: middle;\n",
       "    }\n",
       "\n",
       "    .dataframe tbody tr th {\n",
       "        vertical-align: top;\n",
       "    }\n",
       "\n",
       "    .dataframe thead th {\n",
       "        text-align: right;\n",
       "    }\n",
       "</style>\n",
       "<table border=\"1\" class=\"dataframe\">\n",
       "  <thead>\n",
       "    <tr style=\"text-align: right;\">\n",
       "      <th></th>\n",
       "      <th>INCIDENT_NUMBER</th>\n",
       "      <th>OFFENSE_CODE</th>\n",
       "      <th>OFFENSE_CODE_GROUP</th>\n",
       "      <th>OFFENSE_DESCRIPTION</th>\n",
       "      <th>DISTRICT</th>\n",
       "      <th>REPORTING_AREA</th>\n",
       "      <th>SHOOTING</th>\n",
       "      <th>OCCURRED_ON_DATE</th>\n",
       "      <th>YEAR</th>\n",
       "      <th>MONTH</th>\n",
       "      <th>DAY_OF_WEEK</th>\n",
       "      <th>HOUR</th>\n",
       "      <th>UCR_PART</th>\n",
       "      <th>STREET</th>\n",
       "      <th>Lat</th>\n",
       "      <th>Long</th>\n",
       "      <th>Location</th>\n",
       "    </tr>\n",
       "  </thead>\n",
       "  <tbody>\n",
       "    <tr>\n",
       "      <th>175</th>\n",
       "      <td>I182070746</td>\n",
       "      <td>1402</td>\n",
       "      <td>Vandalism</td>\n",
       "      <td>VANDALISM</td>\n",
       "      <td>C11</td>\n",
       "      <td>462</td>\n",
       "      <td>NaN</td>\n",
       "      <td>2018-08-31 07:00:00</td>\n",
       "      <td>2018</td>\n",
       "      <td>8</td>\n",
       "      <td>Friday</td>\n",
       "      <td>7</td>\n",
       "      <td>Part Two</td>\n",
       "      <td>BULLARD ST</td>\n",
       "      <td>42.302188</td>\n",
       "      <td>-71.073650</td>\n",
       "      <td>(42.30218780, -71.07365004)</td>\n",
       "    </tr>\n",
       "    <tr>\n",
       "      <th>345</th>\n",
       "      <td>I182070549</td>\n",
       "      <td>301</td>\n",
       "      <td>Robbery</td>\n",
       "      <td>ROBBERY - STREET</td>\n",
       "      <td>B2</td>\n",
       "      <td>282</td>\n",
       "      <td>NaN</td>\n",
       "      <td>2018-09-02 07:00:00</td>\n",
       "      <td>2018</td>\n",
       "      <td>9</td>\n",
       "      <td>Sunday</td>\n",
       "      <td>7</td>\n",
       "      <td>Part One</td>\n",
       "      <td>WARREN ST</td>\n",
       "      <td>42.328234</td>\n",
       "      <td>-71.083290</td>\n",
       "      <td>(42.32823419, -71.08328981)</td>\n",
       "    </tr>\n",
       "    <tr>\n",
       "      <th>346</th>\n",
       "      <td>I182070549</td>\n",
       "      <td>413</td>\n",
       "      <td>Aggravated Assault</td>\n",
       "      <td>ASSAULT - AGGRAVATED - BATTERY</td>\n",
       "      <td>B2</td>\n",
       "      <td>282</td>\n",
       "      <td>NaN</td>\n",
       "      <td>2018-09-02 07:00:00</td>\n",
       "      <td>2018</td>\n",
       "      <td>9</td>\n",
       "      <td>Sunday</td>\n",
       "      <td>7</td>\n",
       "      <td>Part One</td>\n",
       "      <td>WARREN ST</td>\n",
       "      <td>42.328234</td>\n",
       "      <td>-71.083290</td>\n",
       "      <td>(42.32823419, -71.08328981)</td>\n",
       "    </tr>\n",
       "    <tr>\n",
       "      <th>505</th>\n",
       "      <td>I182070365</td>\n",
       "      <td>3115</td>\n",
       "      <td>Investigate Person</td>\n",
       "      <td>INVESTIGATE PERSON</td>\n",
       "      <td>E13</td>\n",
       "      <td>651</td>\n",
       "      <td>NaN</td>\n",
       "      <td>2018-08-31 07:00:00</td>\n",
       "      <td>2018</td>\n",
       "      <td>8</td>\n",
       "      <td>Friday</td>\n",
       "      <td>7</td>\n",
       "      <td>Part Three</td>\n",
       "      <td>BOYNTON ST</td>\n",
       "      <td>42.305421</td>\n",
       "      <td>-71.113253</td>\n",
       "      <td>(42.30542129, -71.11325289)</td>\n",
       "    </tr>\n",
       "    <tr>\n",
       "      <th>664</th>\n",
       "      <td>I182070203</td>\n",
       "      <td>3114</td>\n",
       "      <td>Investigate Property</td>\n",
       "      <td>INVESTIGATE PROPERTY</td>\n",
       "      <td>D4</td>\n",
       "      <td>619</td>\n",
       "      <td>NaN</td>\n",
       "      <td>2018-09-01 07:00:00</td>\n",
       "      <td>2018</td>\n",
       "      <td>9</td>\n",
       "      <td>Saturday</td>\n",
       "      <td>7</td>\n",
       "      <td>Part Three</td>\n",
       "      <td>SAINT STEPHEN ST</td>\n",
       "      <td>42.342313</td>\n",
       "      <td>-71.086964</td>\n",
       "      <td>(42.34231311, -71.08696370)</td>\n",
       "    </tr>\n",
       "  </tbody>\n",
       "</table>\n",
       "</div>"
      ],
      "text/plain": [
       "    INCIDENT_NUMBER  OFFENSE_CODE    OFFENSE_CODE_GROUP  \\\n",
       "175      I182070746          1402             Vandalism   \n",
       "345      I182070549           301               Robbery   \n",
       "346      I182070549           413    Aggravated Assault   \n",
       "505      I182070365          3115    Investigate Person   \n",
       "664      I182070203          3114  Investigate Property   \n",
       "\n",
       "                OFFENSE_DESCRIPTION DISTRICT REPORTING_AREA SHOOTING  \\\n",
       "175                       VANDALISM      C11            462      NaN   \n",
       "345                ROBBERY - STREET       B2            282      NaN   \n",
       "346  ASSAULT - AGGRAVATED - BATTERY       B2            282      NaN   \n",
       "505              INVESTIGATE PERSON      E13            651      NaN   \n",
       "664            INVESTIGATE PROPERTY       D4            619      NaN   \n",
       "\n",
       "        OCCURRED_ON_DATE  YEAR  MONTH DAY_OF_WEEK  HOUR    UCR_PART  \\\n",
       "175  2018-08-31 07:00:00  2018      8      Friday     7    Part Two   \n",
       "345  2018-09-02 07:00:00  2018      9      Sunday     7    Part One   \n",
       "346  2018-09-02 07:00:00  2018      9      Sunday     7    Part One   \n",
       "505  2018-08-31 07:00:00  2018      8      Friday     7  Part Three   \n",
       "664  2018-09-01 07:00:00  2018      9    Saturday     7  Part Three   \n",
       "\n",
       "               STREET        Lat       Long                     Location  \n",
       "175        BULLARD ST  42.302188 -71.073650  (42.30218780, -71.07365004)  \n",
       "345         WARREN ST  42.328234 -71.083290  (42.32823419, -71.08328981)  \n",
       "346         WARREN ST  42.328234 -71.083290  (42.32823419, -71.08328981)  \n",
       "505        BOYNTON ST  42.305421 -71.113253  (42.30542129, -71.11325289)  \n",
       "664  SAINT STEPHEN ST  42.342313 -71.086964  (42.34231311, -71.08696370)  "
      ]
     },
     "execution_count": 34,
     "metadata": {},
     "output_type": "execute_result"
    }
   ],
   "source": [
    "crime[crime['OCCURRED_ON_DATE'].apply(lambda x:x.split()[1])=='07:00:00'].head()\n",
    "\n"
   ]
  },
  {
   "cell_type": "markdown",
   "metadata": {},
   "source": [
    "# Great Job!"
   ]
  }
 ],
 "metadata": {
  "kernelspec": {
   "display_name": "Python 3",
   "language": "python",
   "name": "python3"
  },
  "language_info": {
   "codemirror_mode": {
    "name": "ipython",
    "version": 3
   },
   "file_extension": ".py",
   "mimetype": "text/x-python",
   "name": "python",
   "nbconvert_exporter": "python",
   "pygments_lexer": "ipython3",
   "version": "3.7.3"
  }
 },
 "nbformat": 4,
 "nbformat_minor": 1
}
